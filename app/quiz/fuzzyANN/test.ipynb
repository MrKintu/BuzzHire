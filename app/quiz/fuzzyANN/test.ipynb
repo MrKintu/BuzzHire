{
 "cells": [
  {
   "cell_type": "code",
   "execution_count": 1,
   "metadata": {},
   "outputs": [],
   "source": [
    "import os\n",
    "import pickle\n",
    "import pandas as pd\n",
    "from sklearn.model_selection import train_test_split\n",
    "from sklearn.metrics import accuracy_score\n",
    "from sklearn.preprocessing import LabelEncoder\n",
    "from sklearn.ensemble import RandomForestClassifier"
   ]
  },
  {
   "cell_type": "code",
   "execution_count": 2,
   "metadata": {},
   "outputs": [
    {
     "data": {
      "text/html": [
       "<div>\n",
       "<style scoped>\n",
       "    .dataframe tbody tr th:only-of-type {\n",
       "        vertical-align: middle;\n",
       "    }\n",
       "\n",
       "    .dataframe tbody tr th {\n",
       "        vertical-align: top;\n",
       "    }\n",
       "\n",
       "    .dataframe thead th {\n",
       "        text-align: right;\n",
       "    }\n",
       "</style>\n",
       "<table border=\"1\" class=\"dataframe\">\n",
       "  <thead>\n",
       "    <tr style=\"text-align: right;\">\n",
       "      <th></th>\n",
       "      <th>Question</th>\n",
       "      <th>Answer</th>\n",
       "      <th>Age</th>\n",
       "      <th>Gender</th>\n",
       "      <th>Personality</th>\n",
       "    </tr>\n",
       "  </thead>\n",
       "  <tbody>\n",
       "    <tr>\n",
       "      <th>0</th>\n",
       "      <td>I prefer quiet evenings at home rather than go...</td>\n",
       "      <td>1</td>\n",
       "      <td>45</td>\n",
       "      <td>0</td>\n",
       "      <td>Introversion</td>\n",
       "    </tr>\n",
       "    <tr>\n",
       "      <th>1</th>\n",
       "      <td>I enjoy spending time alone with my thoughts.</td>\n",
       "      <td>1</td>\n",
       "      <td>26</td>\n",
       "      <td>1</td>\n",
       "      <td>Introversion</td>\n",
       "    </tr>\n",
       "    <tr>\n",
       "      <th>2</th>\n",
       "      <td>I find large social gatherings overwhelming.</td>\n",
       "      <td>1</td>\n",
       "      <td>36</td>\n",
       "      <td>1</td>\n",
       "      <td>Introversion</td>\n",
       "    </tr>\n",
       "    <tr>\n",
       "      <th>3</th>\n",
       "      <td>I feel drained after spending too much time in...</td>\n",
       "      <td>1</td>\n",
       "      <td>21</td>\n",
       "      <td>0</td>\n",
       "      <td>Introversion</td>\n",
       "    </tr>\n",
       "    <tr>\n",
       "      <th>4</th>\n",
       "      <td>I prefer deep conversations with a few close f...</td>\n",
       "      <td>1</td>\n",
       "      <td>29</td>\n",
       "      <td>1</td>\n",
       "      <td>Introversion</td>\n",
       "    </tr>\n",
       "  </tbody>\n",
       "</table>\n",
       "</div>"
      ],
      "text/plain": [
       "                                            Question  Answer  Age  Gender  \\\n",
       "0  I prefer quiet evenings at home rather than go...       1   45       0   \n",
       "1      I enjoy spending time alone with my thoughts.       1   26       1   \n",
       "2       I find large social gatherings overwhelming.       1   36       1   \n",
       "3  I feel drained after spending too much time in...       1   21       0   \n",
       "4  I prefer deep conversations with a few close f...       1   29       1   \n",
       "\n",
       "    Personality  \n",
       "0  Introversion  \n",
       "1  Introversion  \n",
       "2  Introversion  \n",
       "3  Introversion  \n",
       "4  Introversion  "
      ]
     },
     "execution_count": 2,
     "metadata": {},
     "output_type": "execute_result"
    }
   ],
   "source": [
    "data = pd.read_csv(\"dataset.csv\")\n",
    "data.head()"
   ]
  },
  {
   "cell_type": "code",
   "execution_count": 3,
   "metadata": {},
   "outputs": [],
   "source": [
    "X = data.drop(columns=['Personality'])\n",
    "y = data['Personality']\n",
    "\n",
    "# Splitting the training and testing sets\n",
    "X_train, X_test, y_train, y_test = train_test_split(X, y, test_size=0.3, random_state=109)"
   ]
  },
  {
   "cell_type": "code",
   "execution_count": 4,
   "metadata": {},
   "outputs": [],
   "source": [
    "label_encoder = LabelEncoder()\n",
    "\n",
    "question_train = pd.DataFrame()\n",
    "question_train[\"Question\"] = label_encoder.fit_transform(X_train[\"Question\"])\n",
    "question_train = question_train.reset_index(drop=True)\n",
    "X_train = X_train.drop(columns=[\"Question\", \"Age\", \"Gender\"])\n",
    "X_train = X_train.reset_index(drop=True)\n",
    "X_train = pd.concat([question_train, X_train], axis=1)\n",
    "\n",
    "question_test = pd.DataFrame()\n",
    "question_test[\"Question\"] = label_encoder.fit_transform(X_test[\"Question\"])\n",
    "question_test = question_test.reset_index(drop=True)\n",
    "X_test = X_test.drop(columns=[\"Question\", \"Age\", \"Gender\"])\n",
    "X_test = X_test.reset_index(drop=True)\n",
    "X_test = pd.concat([question_test, X_test], axis=1)"
   ]
  },
  {
   "cell_type": "code",
   "execution_count": 5,
   "metadata": {},
   "outputs": [
    {
     "name": "stdout",
     "output_type": "stream",
     "text": [
      "(8400, 2)\n",
      "(8400,)\n"
     ]
    }
   ],
   "source": [
    "print(X_train.shape)\n",
    "print(y_train.shape)"
   ]
  },
  {
   "cell_type": "code",
   "execution_count": 6,
   "metadata": {},
   "outputs": [
    {
     "name": "stdout",
     "output_type": "stream",
     "text": [
      "(3600, 2)\n",
      "(3600,)\n"
     ]
    }
   ],
   "source": [
    "print(X_test.shape)\n",
    "print(y_test.shape)"
   ]
  },
  {
   "cell_type": "code",
   "execution_count": 7,
   "metadata": {},
   "outputs": [
    {
     "name": "stderr",
     "output_type": "stream",
     "text": [
      "c:\\Users\\d-kin\\.virtualenvs\\BuzzHub1\\Lib\\site-packages\\sklearn\\base.py:348: InconsistentVersionWarning: Trying to unpickle estimator DecisionTreeClassifier from version 1.4.1.post1 when using version 1.3.2. This might lead to breaking code or invalid results. Use at your own risk. For more info please refer to:\n",
      "https://scikit-learn.org/stable/model_persistence.html#security-maintainability-limitations\n",
      "  warnings.warn(\n",
      "c:\\Users\\d-kin\\.virtualenvs\\BuzzHub1\\Lib\\site-packages\\sklearn\\base.py:348: InconsistentVersionWarning: Trying to unpickle estimator RandomForestClassifier from version 1.4.1.post1 when using version 1.3.2. This might lead to breaking code or invalid results. Use at your own risk. For more info please refer to:\n",
      "https://scikit-learn.org/stable/model_persistence.html#security-maintainability-limitations\n",
      "  warnings.warn(\n"
     ]
    }
   ],
   "source": [
    "random_forest_path = \"random_forest.pkl\"\n",
    "if os.path.exists(random_forest_path):\n",
    "    with open(random_forest_path, 'rb') as file:\n",
    "        rf_model = pickle.load(file)\n",
    "else:\n",
    "    rf_model = RandomForestClassifier(n_estimators=5)\n",
    "    rf_model.fit(X_train, y_train)\n",
    "    with open(random_forest_path, 'wb') as file:\n",
    "        pickle.dump(rf_model, file)\n",
    "    print(f\"New Random Forest model trained and saved at {random_forest_path}.\")"
   ]
  },
  {
   "cell_type": "code",
   "execution_count": 8,
   "metadata": {},
   "outputs": [
    {
     "name": "stdout",
     "output_type": "stream",
     "text": [
      "Random Forest Model Evaluation.\n",
      "Training Accuracy: 100.00000%\n",
      "Validation Accuracy: 100.00000%\n"
     ]
    }
   ],
   "source": [
    "# Get SVM predictions and evaluate the SVM model\n",
    "rf_predictions_train = rf_model.predict(X_train)\n",
    "rf_predictions_test = rf_model.predict(X_test)\n",
    "print(\"Random Forest Model Evaluation.\")\n",
    "print(f'Training Accuracy: {accuracy_score(y_train, rf_predictions_train) * 100:.5f}%')\n",
    "print(f'Validation Accuracy: {accuracy_score(y_test, rf_predictions_test) * 100:.5f}%')"
   ]
  },
  {
   "cell_type": "code",
   "execution_count": 9,
   "metadata": {},
   "outputs": [
    {
     "name": "stdout",
     "output_type": "stream",
     "text": [
      "['Intuition' 'Introversion' 'Intuition' ... 'Feeling' 'Judging'\n",
      " 'Intuition']\n",
      "<class 'numpy.ndarray'>\n"
     ]
    }
   ],
   "source": [
    "print(rf_predictions_test)"
   ]
  },
  {
   "cell_type": "code",
   "execution_count": 10,
   "metadata": {},
   "outputs": [
    {
     "name": "stdout",
     "output_type": "stream",
     "text": [
      "8940        Intuition\n",
      "3213     Introversion\n",
      "7845        Intuition\n",
      "8166          Feeling\n",
      "1607     Extroversion\n",
      "             ...     \n",
      "3256          Feeling\n",
      "10545       Intuition\n",
      "4257          Feeling\n",
      "2592          Judging\n",
      "5528        Intuition\n",
      "Name: Personality, Length: 3600, dtype: object\n"
     ]
    }
   ],
   "source": [
    "print(y_test)"
   ]
  }
 ],
 "metadata": {
  "kernelspec": {
   "display_name": "BuzzHub1",
   "language": "python",
   "name": "python3"
  },
  "language_info": {
   "codemirror_mode": {
    "name": "ipython",
    "version": 3
   },
   "file_extension": ".py",
   "mimetype": "text/x-python",
   "name": "python",
   "nbconvert_exporter": "python",
   "pygments_lexer": "ipython3",
   "version": "3.11.6"
  }
 },
 "nbformat": 4,
 "nbformat_minor": 2
}
